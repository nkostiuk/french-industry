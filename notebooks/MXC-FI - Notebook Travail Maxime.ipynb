{
 "cells": [
  {
   "cell_type": "code",
   "execution_count": 1,
   "id": "b46c2337-1519-4285-9d0f-79ba87e68cf2",
   "metadata": {},
   "outputs": [],
   "source": [
    "#Lecture fichier salaires et apercu\n",
    "\n",
    "%matplotlib inline\n",
    "import matplotlib.pyplot as plt\n",
    "import numpy as np\n",
    "import pandas as pd\n",
    "import seaborn as sns"
   ]
  },
  {
   "cell_type": "code",
   "execution_count": null,
   "id": "5bed7511-88e5-4546-b6f1-6a9c264da3dc",
   "metadata": {},
   "outputs": [],
   "source": [
    "#Imports des données sources\n",
    "entreprise = pd.read_csv('../data/base_etablissement_par_tranche_effectif.csv') \n",
    "display(entreprise.head())\n",
    "\n",
    "salary = pd.read_csv('../data/net_salary_per_town_categories.csv')\n",
    "display(salary.head())\n",
    "\n",
    "name_geographic = pd.read_csv('../data/name_geographic_information.csv') \n",
    "display(name_geographic.head())\n",
    "\n",
    "population = pd.read_csv('../data/population.csv', dtype={'CODGEO': object} )\n",
    "display(population.head())"
   ]
  },
  {
   "cell_type": "code",
   "execution_count": null,
   "id": "666a0b80-6a15-40a7-ad7c-604180d998b7",
   "metadata": {},
   "outputs": [],
   "source": [
    "#Imports des données additionnelles (DatasGouv)\n",
    "GPS = pd.read_csv('../data/Datas Gouv/2022_Coordonnées GPS_Villes - (Sources DataGouv).csv') \n",
    "display(GPS.head())\n",
    "\n",
    "Communes_Depts_regions = pd.read_csv('../data/Datas Gouv/2024_communes & departements & regions - (SourcesDataGouv).csv') \n",
    "display(Communes_Depts_regions.head())\n",
    "\n",
    "Depts_ChefLieux = pd.read_csv('../data/Datas Gouv/2024_departements & chef-lieux - (SourcesDataGouv).csv') \n",
    "display(Depts_ChefLieux.head())\n",
    "\n",
    "Regions_ChefLieux = pd.read_csv('../data/Datas Gouv/2024_regions & chef-lieux - (SourcesDataGouv).csv') \n",
    "display(Regions_ChefLieux.head())\n",
    "\n",
    "Communes = pd.read_csv('../data/Datas Gouv/2024-communes - (SourcesDataGouv).csv') \n",
    "display(Communes.head())\n",
    "\n",
    "Etablissements_All = pd.read_csv('../data/Datas Gouv/2024-TD_FLORES2021_NA05_TREF_NBETAB - (SourcesDatasGouv).csv') \n",
    "display(Etablissements_All.head())\n"
   ]
  }
 ],
 "metadata": {
  "kernelspec": {
   "display_name": "Python 3 (ipykernel)",
   "language": "python",
   "name": "python3"
  },
  "language_info": {
   "codemirror_mode": {
    "name": "ipython",
    "version": 3
   },
   "file_extension": ".py",
   "mimetype": "text/x-python",
   "name": "python",
   "nbconvert_exporter": "python",
   "pygments_lexer": "ipython3",
   "version": "3.11.7"
  }
 },
 "nbformat": 4,
 "nbformat_minor": 5
}
