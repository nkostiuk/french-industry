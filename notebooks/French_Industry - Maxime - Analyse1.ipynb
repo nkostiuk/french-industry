{
 "cells": [
  {
   "cell_type": "code",
   "execution_count": null,
   "id": "1c4f7b78-ee88-485f-bb82-defbfedc2e8d",
   "metadata": {},
   "outputs": [],
   "source": [
    "#Tests Maxime 18h30"
   ]
  }
 ],
 "metadata": {
  "kernelspec": {
   "display_name": "Python 3 (ipykernel)",
   "language": "python",
   "name": "python3"
  },
  "language_info": {
   "codemirror_mode": {
    "name": "ipython",
    "version": 3
   },
   "file_extension": ".py",
   "mimetype": "text/x-python",
   "name": "python",
   "nbconvert_exporter": "python",
   "pygments_lexer": "ipython3",
   "version": "3.11.7"
  }
 },
 "nbformat": 4,
 "nbformat_minor": 5
}
