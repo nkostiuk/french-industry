{
 "cells": [
  {
   "cell_type": "code",
   "execution_count": null,
   "id": "f510e48e-85d5-4921-838b-ed51101847a5",
   "metadata": {},
   "outputs": [],
   "source": [
    "#Import Librairies"
   ]
  },
  {
   "cell_type": "code",
   "execution_count": null,
   "id": "1c4f7b78-ee88-485f-bb82-defbfedc2e8d",
   "metadata": {},
   "outputs": [],
   "source": [
    "import numpy as np\n",
    "import pandas as pd\n",
    "import matplotlib.pyplot as plt\n",
    "import seaborn as sns"
   ]
  },
  {
   "cell_type": "code",
   "execution_count": 1,
   "id": "7f094fb6-a535-4ee6-a093-e3c66acf5085",
   "metadata": {},
   "outputs": [
    {
     "name": "stdout",
     "output_type": "stream",
     "text": [
      "Requirement already satisfied: pandas-profiling in c:\\users\\caroline\\anacondax\\envs\\environnemen_maxime_carrion\\lib\\site-packages (3.2.0)\n",
      "Requirement already satisfied: joblib~=1.1.0 in c:\\users\\caroline\\anacondax\\envs\\environnemen_maxime_carrion\\lib\\site-packages (from pandas-profiling) (1.1.1)\n",
      "Requirement already satisfied: scipy>=1.4.1 in c:\\users\\caroline\\anacondax\\envs\\environnemen_maxime_carrion\\lib\\site-packages (from pandas-profiling) (1.11.4)\n",
      "Requirement already satisfied: pandas!=1.0.0,!=1.0.1,!=1.0.2,!=1.1.0,>=0.25.3 in c:\\users\\caroline\\anacondax\\envs\\environnemen_maxime_carrion\\lib\\site-packages (from pandas-profiling) (2.1.4)\n",
      "Requirement already satisfied: matplotlib>=3.2.0 in c:\\users\\caroline\\anacondax\\envs\\environnemen_maxime_carrion\\lib\\site-packages (from pandas-profiling) (3.8.0)\n",
      "Requirement already satisfied: pydantic>=1.8.1 in c:\\users\\caroline\\anacondax\\envs\\environnemen_maxime_carrion\\lib\\site-packages (from pandas-profiling) (2.6.1)\n",
      "Requirement already satisfied: PyYAML>=5.0.0 in c:\\users\\caroline\\anacondax\\envs\\environnemen_maxime_carrion\\lib\\site-packages (from pandas-profiling) (6.0.1)\n",
      "Requirement already satisfied: jinja2>=2.11.1 in c:\\users\\caroline\\anacondax\\envs\\environnemen_maxime_carrion\\lib\\site-packages (from pandas-profiling) (3.1.3)\n",
      "Requirement already satisfied: markupsafe~=2.1.1 in c:\\users\\caroline\\anacondax\\envs\\environnemen_maxime_carrion\\lib\\site-packages (from pandas-profiling) (2.1.3)\n",
      "Requirement already satisfied: visions==0.7.4 in c:\\users\\caroline\\anacondax\\envs\\environnemen_maxime_carrion\\lib\\site-packages (from visions[type_image_path]==0.7.4->pandas-profiling) (0.7.4)\n",
      "Requirement already satisfied: numpy>=1.16.0 in c:\\users\\caroline\\anacondax\\envs\\environnemen_maxime_carrion\\lib\\site-packages (from pandas-profiling) (1.26.3)\n",
      "Requirement already satisfied: htmlmin>=0.1.12 in c:\\users\\caroline\\anacondax\\envs\\environnemen_maxime_carrion\\lib\\site-packages (from pandas-profiling) (0.1.12)\n",
      "Requirement already satisfied: missingno>=0.4.2 in c:\\users\\caroline\\anacondax\\envs\\environnemen_maxime_carrion\\lib\\site-packages (from pandas-profiling) (0.4.2)\n",
      "Requirement already satisfied: phik>=0.11.1 in c:\\users\\caroline\\anacondax\\envs\\environnemen_maxime_carrion\\lib\\site-packages (from pandas-profiling) (0.12.3)\n",
      "Requirement already satisfied: tangled-up-in-unicode==0.2.0 in c:\\users\\caroline\\anacondax\\envs\\environnemen_maxime_carrion\\lib\\site-packages (from pandas-profiling) (0.2.0)\n",
      "Requirement already satisfied: requests>=2.24.0 in c:\\users\\caroline\\anacondax\\envs\\environnemen_maxime_carrion\\lib\\site-packages (from pandas-profiling) (2.31.0)\n",
      "Requirement already satisfied: tqdm>=4.48.2 in c:\\users\\caroline\\anacondax\\envs\\environnemen_maxime_carrion\\lib\\site-packages (from pandas-profiling) (4.65.0)\n",
      "Requirement already satisfied: seaborn>=0.10.1 in c:\\users\\caroline\\anacondax\\envs\\environnemen_maxime_carrion\\lib\\site-packages (from pandas-profiling) (0.12.2)\n",
      "Requirement already satisfied: multimethod>=1.4 in c:\\users\\caroline\\anacondax\\envs\\environnemen_maxime_carrion\\lib\\site-packages (from pandas-profiling) (1.11.1)\n",
      "Requirement already satisfied: attrs>=19.3.0 in c:\\users\\caroline\\anacondax\\envs\\environnemen_maxime_carrion\\lib\\site-packages (from visions==0.7.4->visions[type_image_path]==0.7.4->pandas-profiling) (23.1.0)\n",
      "Requirement already satisfied: networkx>=2.4 in c:\\users\\caroline\\anacondax\\envs\\environnemen_maxime_carrion\\lib\\site-packages (from visions==0.7.4->visions[type_image_path]==0.7.4->pandas-profiling) (3.1)\n",
      "Requirement already satisfied: imagehash in c:\\users\\caroline\\anacondax\\envs\\environnemen_maxime_carrion\\lib\\site-packages (from visions[type_image_path]==0.7.4->pandas-profiling) (4.3.1)\n",
      "Requirement already satisfied: Pillow in c:\\users\\caroline\\anacondax\\envs\\environnemen_maxime_carrion\\lib\\site-packages (from visions[type_image_path]==0.7.4->pandas-profiling) (10.2.0)\n",
      "Requirement already satisfied: contourpy>=1.0.1 in c:\\users\\caroline\\anacondax\\envs\\environnemen_maxime_carrion\\lib\\site-packages (from matplotlib>=3.2.0->pandas-profiling) (1.2.0)\n",
      "Requirement already satisfied: cycler>=0.10 in c:\\users\\caroline\\anacondax\\envs\\environnemen_maxime_carrion\\lib\\site-packages (from matplotlib>=3.2.0->pandas-profiling) (0.11.0)\n",
      "Requirement already satisfied: fonttools>=4.22.0 in c:\\users\\caroline\\anacondax\\envs\\environnemen_maxime_carrion\\lib\\site-packages (from matplotlib>=3.2.0->pandas-profiling) (4.25.0)\n",
      "Requirement already satisfied: kiwisolver>=1.0.1 in c:\\users\\caroline\\anacondax\\envs\\environnemen_maxime_carrion\\lib\\site-packages (from matplotlib>=3.2.0->pandas-profiling) (1.4.4)\n",
      "Requirement already satisfied: packaging>=20.0 in c:\\users\\caroline\\anacondax\\envs\\environnemen_maxime_carrion\\lib\\site-packages (from matplotlib>=3.2.0->pandas-profiling) (23.1)\n",
      "Requirement already satisfied: pyparsing>=2.3.1 in c:\\users\\caroline\\anacondax\\envs\\environnemen_maxime_carrion\\lib\\site-packages (from matplotlib>=3.2.0->pandas-profiling) (3.0.9)\n",
      "Requirement already satisfied: python-dateutil>=2.7 in c:\\users\\caroline\\anacondax\\envs\\environnemen_maxime_carrion\\lib\\site-packages (from matplotlib>=3.2.0->pandas-profiling) (2.8.2)\n",
      "Requirement already satisfied: pytz>=2020.1 in c:\\users\\caroline\\anacondax\\envs\\environnemen_maxime_carrion\\lib\\site-packages (from pandas!=1.0.0,!=1.0.1,!=1.0.2,!=1.1.0,>=0.25.3->pandas-profiling) (2023.3.post1)\n",
      "Requirement already satisfied: tzdata>=2022.1 in c:\\users\\caroline\\anacondax\\envs\\environnemen_maxime_carrion\\lib\\site-packages (from pandas!=1.0.0,!=1.0.1,!=1.0.2,!=1.1.0,>=0.25.3->pandas-profiling) (2023.3)\n",
      "Requirement already satisfied: annotated-types>=0.4.0 in c:\\users\\caroline\\anacondax\\envs\\environnemen_maxime_carrion\\lib\\site-packages (from pydantic>=1.8.1->pandas-profiling) (0.6.0)\n",
      "Requirement already satisfied: pydantic-core==2.16.2 in c:\\users\\caroline\\anacondax\\envs\\environnemen_maxime_carrion\\lib\\site-packages (from pydantic>=1.8.1->pandas-profiling) (2.16.2)\n",
      "Requirement already satisfied: typing-extensions>=4.6.1 in c:\\users\\caroline\\anacondax\\envs\\environnemen_maxime_carrion\\lib\\site-packages (from pydantic>=1.8.1->pandas-profiling) (4.9.0)\n",
      "Requirement already satisfied: charset-normalizer<4,>=2 in c:\\users\\caroline\\anacondax\\envs\\environnemen_maxime_carrion\\lib\\site-packages (from requests>=2.24.0->pandas-profiling) (2.0.4)\n",
      "Requirement already satisfied: idna<4,>=2.5 in c:\\users\\caroline\\anacondax\\envs\\environnemen_maxime_carrion\\lib\\site-packages (from requests>=2.24.0->pandas-profiling) (3.4)\n",
      "Requirement already satisfied: urllib3<3,>=1.21.1 in c:\\users\\caroline\\anacondax\\envs\\environnemen_maxime_carrion\\lib\\site-packages (from requests>=2.24.0->pandas-profiling) (2.1.0)\n",
      "Requirement already satisfied: certifi>=2017.4.17 in c:\\users\\caroline\\anacondax\\envs\\environnemen_maxime_carrion\\lib\\site-packages (from requests>=2.24.0->pandas-profiling) (2024.2.2)\n",
      "Requirement already satisfied: colorama in c:\\users\\caroline\\anacondax\\envs\\environnemen_maxime_carrion\\lib\\site-packages (from tqdm>=4.48.2->pandas-profiling) (0.4.6)\n",
      "Requirement already satisfied: six>=1.5 in c:\\users\\caroline\\anacondax\\envs\\environnemen_maxime_carrion\\lib\\site-packages (from python-dateutil>=2.7->matplotlib>=3.2.0->pandas-profiling) (1.16.0)\n",
      "Requirement already satisfied: PyWavelets in c:\\users\\caroline\\anacondax\\envs\\environnemen_maxime_carrion\\lib\\site-packages (from imagehash->visions[type_image_path]==0.7.4->pandas-profiling) (1.5.0)\n"
     ]
    }
   ],
   "source": [
    "!pip install -U pandas-profiling"
   ]
  },
  {
   "cell_type": "code",
   "execution_count": 2,
   "id": "2ee6733a-0250-4386-8267-d443dbe98a54",
   "metadata": {},
   "outputs": [
    {
     "ename": "NameError",
     "evalue": "name 'pd' is not defined",
     "output_type": "error",
     "traceback": [
      "\u001b[1;31m---------------------------------------------------------------------------\u001b[0m",
      "\u001b[1;31mNameError\u001b[0m                                 Traceback (most recent call last)",
      "Cell \u001b[1;32mIn[2], line 1\u001b[0m\n\u001b[1;32m----> 1\u001b[0m pop\u001b[38;5;241m=\u001b[39mpd\u001b[38;5;241m.\u001b[39mread_csv(\u001b[38;5;124m'\u001b[39m\u001b[38;5;124m../data/population.csv\u001b[39m\u001b[38;5;124m'\u001b[39m)\n",
      "\u001b[1;31mNameError\u001b[0m: name 'pd' is not defined"
     ]
    }
   ],
   "source": [
    "pop=pd.read_csv('../data/population.csv')"
   ]
  },
  {
   "cell_type": "code",
   "execution_count": null,
   "id": "fe25b078-e8e3-42c3-8ec0-18fa6896cc14",
   "metadata": {},
   "outputs": [],
   "source": []
  }
 ],
 "metadata": {
  "kernelspec": {
   "display_name": "Python 3 (ipykernel)",
   "language": "python",
   "name": "python3"
  },
  "language_info": {
   "codemirror_mode": {
    "name": "ipython",
    "version": 3
   },
   "file_extension": ".py",
   "mimetype": "text/x-python",
   "name": "python",
   "nbconvert_exporter": "python",
   "pygments_lexer": "ipython3",
   "version": "3.11.7"
  }
 },
 "nbformat": 4,
 "nbformat_minor": 5
}
